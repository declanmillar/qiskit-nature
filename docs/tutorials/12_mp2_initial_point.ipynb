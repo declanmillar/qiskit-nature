{
 "cells": [
  {
   "cell_type": "markdown",
   "metadata": {},
   "source": [
    "# Using a Møller-Plesset-informed initial point"
   ]
  },
  {
   "cell_type": "markdown",
   "metadata": {},
   "source": [
    "## Introduction\n",
    "\n",
    "In this tutorial we are going to describe how to use a Møller-Plesset-informed initial point for the Variational Quantum Eigensolver (VQE) with the ground state calculation interface of Qiskit Nature. The goal is to demonstrate that using such an initial point enables us to compute the ground state of an electronic molecular Hamiltonian using fewer evaluations than the default Hartree-Fock initial point. It will also serve to illustrate some changes to how initial points are \n",
    "\n",
    "Please see the tutorial on Ground State Solvers to learn the fundamentals of computing the molecular ground state with Qiskit Nature. To know more about the preparation of the Hamiltonian, check out the Electronic structure and Vibrational structure tutorials. \n",
    "\n",
    "## The molecule\n",
    "\n",
    "As usual, the first step is to define the molecular system. In the following, we obtain the electronic part of a hydrogen molecule."
   ]
  },
  {
   "cell_type": "code",
   "execution_count": null,
   "metadata": {},
   "outputs": [],
   "source": [
    "import qiskit_nature\n",
    "from qiskit_nature.drivers import Molecule\n",
    "from qiskit_nature.drivers.second_quantization import (\n",
    "    ElectronicStructureMoleculeDriver,\n",
    "    ElectronicStructureDriverType,\n",
    ")\n",
    "from qiskit_nature.problems.second_quantization import ElectronicStructureProblem\n",
    "from qiskit_nature.converters.second_quantization import QubitConverter\n",
    "from qiskit_nature.mappers.second_quantization import JordanWignerMapper\n",
    "\n",
    "molecule = Molecule(\n",
    "    geometry=[[\"Li\", [0.0, 0.0, 0.0]], [\"H\", [0.0, 0.0, 1.596]]], charge=0, multiplicity=1\n",
    ")\n",
    "\n",
    "driver = ElectronicStructureMoleculeDriver(\n",
    "    molecule, basis=\"sto3g\", driver_type=ElectronicStructureDriverType.PYSCF\n",
    ")\n",
    "\n",
    "es_problem = ElectronicStructureProblem(driver)\n",
    "print(es_problem)"
   ]
  },
  {
   "cell_type": "markdown",
   "metadata": {},
   "source": [
    "## The ansatz"
   ]
  },
  {
   "cell_type": "code",
   "execution_count": null,
   "metadata": {},
   "outputs": [],
   "source": [
    "from qiskit_nature.circuit.library import UCCSD\n",
    "from qiskit_nature.properties.second_quantization.electronic import ParticleNumber\n",
    "\n",
    "qiskit_nature.settings.dict_aux_operators = True\n",
    "\n",
    "# generate the second-quantized operators\n",
    "second_q_ops = es_problem.second_q_ops()\n",
    "\n",
    "grouped_property = es_problem.grouped_property_transformed\n",
    "\n",
    "particle_number = grouped_property.get_property(ParticleNumber)\n",
    "num_particles = (particle_number.num_alpha, particle_number.num_beta)\n",
    "num_spin_orbitals = particle_number.num_spin_orbitals\n",
    "\n",
    "# setup the qubit converter\n",
    "qubit_converter = QubitConverter(JordanWignerMapper())\n",
    "\n",
    "main_op = second_q_ops[\"ElectronicEnergy\"]\n",
    "# map to qubit operators\n",
    "qubit_op = qubit_converter.convert(main_op, num_particles=num_particles)\n",
    "\n",
    "# setup the ansatz for VQE\n",
    "ansatz = UCCSD(\n",
    "    qubit_converter=qubit_converter,\n",
    "    num_particles=num_particles,\n",
    "    num_spin_orbitals=num_spin_orbitals,\n",
    ")"
   ]
  },
  {
   "cell_type": "markdown",
   "metadata": {},
   "source": [
    "## The initial point"
   ]
  },
  {
   "cell_type": "code",
   "execution_count": null,
   "metadata": {},
   "outputs": [],
   "source": [
    "from qiskit_nature.algorithms.initial_points import HFInitialPoint\n",
    "\n",
    "hf_initial_point = HFInitialPoint()\n",
    "hf_initial_point.grouped_property = grouped_property\n",
    "hf_initial_point.ansatz = ansatz\n",
    "hf_initial_point_np = hf_initial_point.to_numpy_array()"
   ]
  },
  {
   "cell_type": "code",
   "execution_count": null,
   "metadata": {},
   "outputs": [],
   "source": [
    "from qiskit_nature.algorithms.initial_points import MP2InitialPoint\n",
    "\n",
    "mp2_initial_point = MP2InitialPoint()\n",
    "mp2_initial_point.grouped_property = grouped_property\n",
    "mp2_initial_point.ansatz = ansatz\n",
    "mp2_initial_point_np = mp2_initial_point.to_numpy_array()"
   ]
  },
  {
   "cell_type": "markdown",
   "metadata": {},
   "source": [
    "## The Solver\n",
    "\n",
    "Then we need to define a solver. The solver is the algorithm through which the ground state is computed.\n",
    "\n",
    "To define the VQE solver one needs two essential elements:\n",
    "\n",
    "1. A variational form: here we use the Unitary Coupled Cluster (UCC) ansatz (see for instance [Physical Review A 98.2 (2018): 022322]). Since it is a chemistry standard, a factory is already available allowing a fast initialization of a VQE with UCC. The default is to use all single and double excitations. However, the excitation type (S, D, SD) as well as other parameters can be selected.\n",
    "2. An initial state: the initial state of the qubits. In the factory used above, the qubits are initialized in the Hartree-Fock (see the electronic structure tutorial) initial state (the qubits corresponding to occupied MOs are $|1\\rangle$ and those corresponding to virtual MOs are $|0\\rangle$.\n",
    "3. The backend: this is the quantum machine on which the right part of the figure above will be performed. Here we ask for the perfect quantum emulator (```aer_simulator_statevector```). \n",
    "\n",
    "One could also use any available ansatz / initial state or even define one's own. For instance,\n",
    "\n"
   ]
  },
  {
   "cell_type": "markdown",
   "metadata": {},
   "source": [
    "We will be using the Variational Quantum Eigensolver (VQE) algorithm. The VQE algorithms works by exchanging information between a classical and a quantum computer as depicted in the following figure.\n",
    "\n",
    "<img src=\"aux_files/vqe.png\" width=\"600\">\n",
    "\n",
    "Let's initialize a VQE solver."
   ]
  },
  {
   "cell_type": "code",
   "execution_count": null,
   "metadata": {},
   "outputs": [],
   "source": [
    "from qiskit import Aer\n",
    "from qiskit.utils import QuantumInstance\n",
    "from qiskit.algorithms.optimizers import L_BFGS_B\n",
    "from qiskit.algorithms import VQE\n",
    "\n",
    "optimizer = L_BFGS_B()\n",
    "\n",
    "quantum_instance = QuantumInstance(backend=Aer.get_backend(\"aer_simulator_statevector\"))\n",
    "hf_vqe = VQE(\n",
    "    ansatz, optimizer=optimizer, quantum_instance=quantum_instance, initial_point=hf_initial_point_np\n",
    ")"
   ]
  },
  {
   "cell_type": "markdown",
   "metadata": {},
   "source": [
    "Let's initialize a VQE solver using a MPInitialPoint."
   ]
  },
  {
   "cell_type": "code",
   "execution_count": null,
   "metadata": {},
   "outputs": [],
   "source": [
    "vqe_mp2 = VQE(\n",
    "    ansatz, optimizer=optimizer, quantum_instance=quantum_instance, initial_point=mp2_initial_point_np\n",
    ")"
   ]
  },
  {
   "cell_type": "markdown",
   "metadata": {},
   "source": [
    "## The calculation and results\n",
    "\n",
    "We are now ready to run the calculation."
   ]
  },
  {
   "cell_type": "code",
   "execution_count": null,
   "metadata": {},
   "outputs": [],
   "source": [
    "from qiskit_nature.algorithms import GroundStateEigensolver\n",
    "\n",
    "hf_gse = GroundStateEigensolver(qubit_converter, hf_vqe)\n",
    "hf_result = hf_gse.solve(es_problem)\n",
    "print(hf_result)"
   ]
  },
  {
   "cell_type": "code",
   "execution_count": null,
   "metadata": {},
   "outputs": [],
   "source": [
    "mp2_gse = GroundStateEigensolver(qubit_converter, vqe_mp2)\n",
    "mp2_result = mp2_gse.solve(es_problem)\n",
    "print(mp2_result)"
   ]
  }
 ],
 "metadata": {
  "kernelspec": {
   "display_name": "Python 3.9.13 ('.venv': venv)",
   "language": "python",
   "name": "python3"
  },
  "language_info": {
   "codemirror_mode": {
    "name": "ipython",
    "version": 3
   },
   "file_extension": ".py",
   "mimetype": "text/x-python",
   "name": "python",
   "nbconvert_exporter": "python",
   "pygments_lexer": "ipython3",
   "version": "3.9.13"
  },
  "vscode": {
   "interpreter": {
    "hash": "ffc85fdfed124af4db6e0849e66744f113a9e0b24a562deaaf083e871cbf3b40"
   }
  }
 },
 "nbformat": 4,
 "nbformat_minor": 4
}
